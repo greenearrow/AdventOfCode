{
 "cells": [
  {
   "cell_type": "markdown",
   "source": [
    "Day 1 Question 1"
   ],
   "metadata": {}
  },
  {
   "cell_type": "code",
   "execution_count": 12,
   "source": [
    "with open(r'data\\day_1.txt','r') as file:\r\n",
    "    data = [int(line.rstrip()) for line in file]\r\n",
    "print(len([1 for i, j in zip(data[0:-1],data[1:]) if j > i]))\r\n"
   ],
   "outputs": [
    {
     "output_type": "stream",
     "name": "stdout",
     "text": [
      "1752\n"
     ]
    }
   ],
   "metadata": {}
  },
  {
   "cell_type": "markdown",
   "source": [
    "Day 1 Question 2"
   ],
   "metadata": {}
  },
  {
   "cell_type": "code",
   "execution_count": 13,
   "source": [
    "windows = [i+j+k for i, j, k in zip(data[0:-2], data[1:-1], data[2:])]\r\n",
    "print(len([1 for i, j in zip(windows[0:-1],windows[1:]) if j > i]))"
   ],
   "outputs": [],
   "metadata": {}
  }
 ],
 "metadata": {
  "orig_nbformat": 4,
  "language_info": {
   "name": "python",
   "version": "3.7.8",
   "mimetype": "text/x-python",
   "codemirror_mode": {
    "name": "ipython",
    "version": 3
   },
   "pygments_lexer": "ipython3",
   "nbconvert_exporter": "python",
   "file_extension": ".py"
  },
  "kernelspec": {
   "name": "python3",
   "display_name": "Python 3.7.8 64-bit ('env': venv)"
  },
  "interpreter": {
   "hash": "cc5368e59a03fb69b7a06322677fadc2d1576ef5f007e4d515f5f50d6d6b119c"
  }
 },
 "nbformat": 4,
 "nbformat_minor": 2
}