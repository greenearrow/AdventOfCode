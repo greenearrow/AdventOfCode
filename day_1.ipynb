{
 "cells": [
  {
   "cell_type": "markdown",
   "metadata": {},
   "source": [
    "Day 1 Question 1"
   ]
  },
  {
   "cell_type": "code",
   "execution_count": 2,
   "metadata": {},
   "outputs": [
    {
     "name": "stdout",
     "output_type": "stream",
     "text": [
      "1752\n"
     ]
    }
   ],
   "source": [
    "with open(r'data\\day_1.txt','r') as file:\n",
    "    data = [int(line.rstrip()) for line in file]\n",
    "print(len([1 for i, j in zip(data[0:-1],data[1:]) if j > i]))\n"
   ]
  },
  {
   "cell_type": "markdown",
   "metadata": {},
   "source": [
    "Day 1 Question 2"
   ]
  },
  {
   "cell_type": "code",
   "execution_count": 3,
   "metadata": {},
   "outputs": [
    {
     "name": "stdout",
     "output_type": "stream",
     "text": [
      "1781\n"
     ]
    }
   ],
   "source": [
    "windows = [i+j+k for i, j, k in zip(data[0:-2], data[1:-1], data[2:])]\n",
    "print(len([1 for i, j in zip(windows[0:-1],windows[1:]) if j > i]))"
   ]
  }
 ],
 "metadata": {
  "interpreter": {
   "hash": "cc5368e59a03fb69b7a06322677fadc2d1576ef5f007e4d515f5f50d6d6b119c"
  },
  "kernelspec": {
   "display_name": "Python 3.7.8 64-bit ('env': venv)",
   "name": "python3"
  },
  "language_info": {
   "codemirror_mode": {
    "name": "ipython",
    "version": 3
   },
   "file_extension": ".py",
   "mimetype": "text/x-python",
   "name": "python",
   "nbconvert_exporter": "python",
   "pygments_lexer": "ipython3",
   "version": "3.7.8"
  },
  "orig_nbformat": 4
 },
 "nbformat": 4,
 "nbformat_minor": 2
}
