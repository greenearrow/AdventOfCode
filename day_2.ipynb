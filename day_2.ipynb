{
 "cells": [
  {
   "cell_type": "code",
   "execution_count": 1,
   "metadata": {},
   "outputs": [],
   "source": [
    "with open(r'data\\day_2.txt','r') as file:\n",
    "    data = [line.rstrip() for line in file]\n",
    "data = [(i.split(' ')[0],int(i.split(' ')[1])) for i in data]"
   ]
  },
  {
   "cell_type": "code",
   "execution_count": null,
   "metadata": {},
   "outputs": [],
   "source": [
    "directions = {'forward': (1, 0), 'down': (0, 1), 'up': (0, -1)}\n",
    "positions = []\n",
    "position = [0, 0]\n",
    "for instruction in data:\n",
    "    key = instruction[0]\n",
    "    distance = instruction[1]\n",
    "    positions.append(tuple([distance * direction for direction in directions[key]]) )\n",
    "    position[0] += positions[-1][0]\n",
    "    position[1] += positions[-1][1]\n",
    "print(position[0], position[1], position[0] * position[1])\n"
   ]
  },
  {
   "cell_type": "code",
   "execution_count": 5,
   "metadata": {},
   "outputs": [
    {
     "name": "stdout",
     "output_type": "stream",
     "text": [
      "2052 1010437 1032 2073416724\n"
     ]
    }
   ],
   "source": [
    "horizontal_pos, depth, aim = 0, 0, 0\n",
    "for instruction in data:\n",
    "    direction = instruction[0]\n",
    "    x = instruction[1]\n",
    "    if direction == 'forward':\n",
    "        horizontal_pos += x\n",
    "        depth += (x * aim)\n",
    "    elif direction == 'down':\n",
    "        aim += x\n",
    "    elif direction == 'up':\n",
    "        aim -= x\n",
    "print(horizontal_pos, depth, aim, depth * horizontal_pos)\n"
   ]
  }
 ],
 "metadata": {
  "interpreter": {
   "hash": "57baa5815c940fdaff4d14510622de9616cae602444507ba5d0b6727c008cbd6"
  },
  "kernelspec": {
   "display_name": "Python 3.7.8 64-bit",
   "language": "python",
   "name": "python3"
  },
  "language_info": {
   "codemirror_mode": {
    "name": "ipython",
    "version": 3
   },
   "file_extension": ".py",
   "mimetype": "text/x-python",
   "name": "python",
   "nbconvert_exporter": "python",
   "pygments_lexer": "ipython3",
   "version": "3.7.8"
  },
  "orig_nbformat": 4
 },
 "nbformat": 4,
 "nbformat_minor": 2
}
