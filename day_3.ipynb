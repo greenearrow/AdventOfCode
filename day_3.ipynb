{
 "cells": [
  {
   "cell_type": "code",
   "execution_count": 1,
   "metadata": {},
   "outputs": [],
   "source": [
    "with open(r'data\\day_3.txt','r') as file:\n",
    "    data = [line.rstrip() for line in file]"
   ]
  },
  {
   "cell_type": "code",
   "execution_count": 2,
   "metadata": {},
   "outputs": [],
   "source": [
    "def mean(lst):\n",
    "    return sum(lst)/len(lst)\n",
    "def gamma_epsilon(lst):\n",
    "    gamma, epsilon = [], []\n",
    "    for i in range(0,len(lst[0])):\n",
    "        test = mean( [int(d[i] )for d in lst] )\n",
    "        if test == .5: test = 1\n",
    "        gamma.append( round( test ) )\n",
    "        epsilon.append( abs( 1 - gamma[-1] ) )\n",
    "    \n",
    "    return gamma, epsilon"
   ]
  },
  {
   "cell_type": "code",
   "execution_count": 3,
   "metadata": {},
   "outputs": [],
   "source": [
    "def make_it_a_number(binary_string):   \n",
    "    return int( ''.join( [str(g) for g in binary_string] ), 2 )"
   ]
  },
  {
   "cell_type": "code",
   "execution_count": 4,
   "metadata": {},
   "outputs": [
    {
     "name": "stdout",
     "output_type": "stream",
     "text": [
      "The answer to Q1 is 3847100\n"
     ]
    }
   ],
   "source": [
    "gamma, epsilon = gamma_epsilon(data)\n",
    "gamma_bin = make_it_a_number(gamma)\n",
    "epsilon_bin = make_it_a_number(epsilon)\n",
    "print(f'The answer to Q1 is {epsilon_bin * gamma_bin}')"
   ]
  },
  {
   "cell_type": "code",
   "execution_count": 5,
   "metadata": {},
   "outputs": [],
   "source": [
    "def oxy_car(data):\n",
    "    oxy = data\n",
    "    car = data\n",
    "\n",
    "    for i in range(0,len(data[0])):\n",
    "\n",
    "        if len(oxy)>1:    \n",
    "            oxy_g = gamma_epsilon(oxy)[0]\n",
    "            oxy = [o for o in oxy if int(o[i]) == oxy_g[i]]\n",
    "\n",
    "        if len(car)>1:\n",
    "            car_e = gamma_epsilon(car)[1]\n",
    "            car = [c for c in car if int(c[i]) == car_e[i]]\n",
    "    return oxy, car "
   ]
  },
  {
   "cell_type": "code",
   "execution_count": 6,
   "metadata": {},
   "outputs": [
    {
     "name": "stdout",
     "output_type": "stream",
     "text": [
      "The answer to Q2 is 4105235\n"
     ]
    }
   ],
   "source": [
    "oxy, car = oxy_car(data)\n",
    "oxy_bin = make_it_a_number(oxy)\n",
    "car_bin = make_it_a_number(car)\n",
    "print(f'The answer to Q2 is {oxy_bin * car_bin}')"
   ]
  }
 ],
 "metadata": {
  "interpreter": {
   "hash": "cc5368e59a03fb69b7a06322677fadc2d1576ef5f007e4d515f5f50d6d6b119c"
  },
  "kernelspec": {
   "display_name": "Python 3.7.8 64-bit ('env': venv)",
   "language": "python",
   "name": "python3"
  },
  "language_info": {
   "codemirror_mode": {
    "name": "ipython",
    "version": 3
   },
   "file_extension": ".py",
   "mimetype": "text/x-python",
   "name": "python",
   "nbconvert_exporter": "python",
   "pygments_lexer": "ipython3",
   "version": "3.9.7"
  },
  "orig_nbformat": 4
 },
 "nbformat": 4,
 "nbformat_minor": 2
}
