{
 "cells": [
  {
   "cell_type": "code",
   "execution_count": 13,
   "metadata": {},
   "outputs": [],
   "source": [
    "with open(r'data\\day_3.txt','r') as file:\n",
    "    data = [line.rstrip() for line in file]\n",
    "gamma, epsilon = [], []\n",
    "def mean(lst):\n",
    "    return sum(lst)/len(lst)\n",
    "for i in range(0,len(data[0])):\n",
    "    gamma.append( round( mean( [int(d[i] )for d in data] ) ) )\n",
    "    epsilon.append( abs( 1 - gamma[-1] ) )\n",
    "gamma_bin = int( ''.join( [str(g) for g in gamma] ), 2 )\n",
    "epsilon_bin = int( ''.join( [str(e) for e in epsilon] ), 2 )"
   ]
  },
  {
   "cell_type": "code",
   "execution_count": 20,
   "metadata": {},
   "outputs": [
    {
     "name": "stdout",
     "output_type": "stream",
     "text": [
      "3847100\n"
     ]
    }
   ],
   "source": [
    "print(gamma_bin * epsilon_bin)"
   ]
  }
 ],
 "metadata": {
  "interpreter": {
   "hash": "cc5368e59a03fb69b7a06322677fadc2d1576ef5f007e4d515f5f50d6d6b119c"
  },
  "kernelspec": {
   "display_name": "Python 3.7.8 64-bit ('env': venv)",
   "language": "python",
   "name": "python3"
  },
  "language_info": {
   "codemirror_mode": {
    "name": "ipython",
    "version": 3
   },
   "file_extension": ".py",
   "mimetype": "text/x-python",
   "name": "python",
   "nbconvert_exporter": "python",
   "pygments_lexer": "ipython3",
   "version": "3.7.8"
  },
  "orig_nbformat": 4
 },
 "nbformat": 4,
 "nbformat_minor": 2
}
